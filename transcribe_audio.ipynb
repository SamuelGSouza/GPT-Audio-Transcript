{
 "cells": [
  {
   "cell_type": "code",
   "execution_count": null,
   "id": "96f018e8-b7e9-412b-b496-16f837a18da1",
   "metadata": {},
   "outputs": [],
   "source": [
    "import openai\n",
    "import os\n",
    "import pyaudio\n",
    "import wave\n",
    "from dotenv import load_dotenv\n",
    "import requests\n",
    "import json\n",
    "\n",
    "# Set your OpenAI API key\n",
    "load_dotenv()\n",
    "OPENAI_API_KEY = os.getenv(\"OPENAI_API_KEY\")\n",
    "openai.api_key = OPENAI_API_KEY;"
   ]
  },
  {
   "cell_type": "code",
   "execution_count": null,
   "id": "2e453c4e-a4ea-4ae7-9e4a-2e6ac46cf13c",
   "metadata": {},
   "outputs": [],
   "source": [
    "# Record audio\n",
    "def record_audio(filename, duration=5):\n",
    "    FORMAT = pyaudio.paInt16\n",
    "    CHANNELS = 1\n",
    "    RATE = 16000\n",
    "    CHUNK = 1024\n",
    "\n",
    "    audio = pyaudio.PyAudio()\n",
    "    stream = audio.open(format=FORMAT, channels=CHANNELS,\n",
    "                        rate=RATE, input=True,\n",
    "                        frames_per_buffer=CHUNK)\n",
    "\n",
    "    print(\"Recording...\")\n",
    "\n",
    "    frames = []\n",
    "\n",
    "    for _ in range(0, int(RATE / CHUNK * duration)):\n",
    "        data = stream.read(CHUNK)\n",
    "        frames.append(data)\n",
    "\n",
    "    print(\"Finished recording\")\n",
    "\n",
    "    stream.stop_stream()\n",
    "    stream.close()\n",
    "    audio.terminate()\n",
    "\n",
    "    with wave.open(filename, 'wb') as wf:\n",
    "        wf.setnchannels(CHANNELS)\n",
    "        wf.setsampwidth(audio.get_sample_size(FORMAT))\n",
    "        wf.setframerate(RATE)\n",
    "        wf.writeframes(b''.join(frames))"
   ]
  },
  {
   "cell_type": "code",
   "execution_count": null,
   "id": "9a70d693-329d-4439-a937-3257085f44d0",
   "metadata": {},
   "outputs": [],
   "source": [
    "# Transcribe audio\n",
    "def transcribe_audio(filename):\n",
    "    with open(filename, \"rb\") as audio_file:\n",
    "        transcript = openai.Audio.transcribe(\"whisper-1\", audio_file)\n",
    "        return transcript[\"text\"]"
   ]
  },
  {
   "cell_type": "code",
   "execution_count": null,
   "id": "d6f1e69d-2c49-4d00-bd77-b2693124036d",
   "metadata": {},
   "outputs": [],
   "source": [
    "def generate_response(question):\n",
    "    # Defina os cabeçalhos da solicitação\n",
    "    headers = {\n",
    "        \"Content-Type\": \"application/json\",\n",
    "        \"Authorization\": f\"Bearer {OPENAI_API_KEY}\"\n",
    "    }\n",
    "    \n",
    "    # Defina os dados da solicitação\n",
    "    data = {\n",
    "        \"model\": \"gpt-4\",\n",
    "        \"messages\": [{\"role\": \"user\", \"content\": f\"{question}\"}],\n",
    "        \"temperature\": 0.7\n",
    "    }\n",
    "    \n",
    "    # Faça a solicitação HTTP POST\n",
    "    response = requests.post(\"https://api.openai.com/v1/chat/completions\", headers=headers, json=data)\n",
    "    \n",
    "    # Obtenha a resposta da API\n",
    "    result = response.json()\n",
    "    \n",
    "    # Acesse a resposta do modelo\n",
    "    return result[\"choices\"][0][\"message\"][\"content\"]"
   ]
  },
  {
   "cell_type": "code",
   "execution_count": null,
   "id": "e759d5ac-efdd-4409-bc8e-6a12755e9568",
   "metadata": {},
   "outputs": [],
   "source": [
    "# Main function\n",
    "def main():\n",
    "    audio_filename = \"recorded_audio.wav\"\n",
    "    record_audio(audio_filename)\n",
    "    transcription = transcribe_audio(audio_filename)\n",
    "    print(\"Transcription:\", transcription)\n",
    "    response = generate_response(transcription)\n",
    "    print(response)\n",
    "if __name__ == \"__main__\":\n",
    "    main()"
   ]
  }
 ],
 "metadata": {
  "kernelspec": {
   "display_name": "Python 3 (ipykernel)",
   "language": "python",
   "name": "python3"
  },
  "language_info": {
   "codemirror_mode": {
    "name": "ipython",
    "version": 3
   },
   "file_extension": ".py",
   "mimetype": "text/x-python",
   "name": "python",
   "nbconvert_exporter": "python",
   "pygments_lexer": "ipython3",
   "version": "3.10.6"
  }
 },
 "nbformat": 4,
 "nbformat_minor": 5
}
